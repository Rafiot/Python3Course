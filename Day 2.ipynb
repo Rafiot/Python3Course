{
 "cells": [
  {
   "cell_type": "markdown",
   "metadata": {},
   "source": [
    "# Starting point: end of day 1"
   ]
  },
  {
   "cell_type": "code",
   "execution_count": null,
   "metadata": {},
   "outputs": [],
   "source": [
    "import logging\n",
    "import re\n",
    "\n",
    "def entries_counter(source_file):\n",
    "    matches = re.findall('^$', open(source_file, 'r').read(), flags=re.MULTILINE)\n",
    "    nb_blocks = len(matches)\n",
    "    logging.debug(f'{nb_blocks} blocks in the file \"{source_file}\".')\n",
    "    return nb_blocks\n",
    "\n",
    "def file_splitter(source_file_name, number_of_files, separator='\\n', output_name='split'):\n",
    "    logging.info(f'Start to split \"{source_file_name}\" in {number_of_files} files.')\n",
    "    total_blocs_in_file = entries_counter(source_file=source_file_name)\n",
    "    max_blocs_in_file = round(total_blocs_in_file/float(number_of_files), 0)\n",
    "    logging.debug(f'{max_blocs_in_file} blocks per file.')\n",
    "    \n",
    "    padding_length = len(str(number_of_files))\n",
    "    \n",
    "    with open(source_file_name, 'r') as original_file:\n",
    "        file_number = 1\n",
    "        blocs_in_file = 0\n",
    "        new_file_content = ''\n",
    "\n",
    "        # Loop through the file, line by line\n",
    "        for line in original_file:\n",
    "            # Store the line in a temporary variable\n",
    "            new_file_content += line\n",
    "            if line == separator:\n",
    "                # Count the blocks\n",
    "                blocs_in_file += 1\n",
    "            if blocs_in_file > max_blocs_in_file:\n",
    "                logging.debug(f'Writing {output_name}_{file_number:0{padding_length}}.txt.')\n",
    "                # If we reach the limit, write the content of the temporary variable in the new file\n",
    "                with open(f'{output_name}_{file_number:0{padding_length}}.txt', 'w') as new_file:\n",
    "                    new_file.write(new_file_content)\n",
    "                # Reset counters\n",
    "                file_number += 1\n",
    "                blocs_in_file = 0\n",
    "                new_file_content = ''\n",
    "        else:\n",
    "            logging.debug(f'Writing {output_name}_{file_number:0{padding_length}}.txt.')\n",
    "            # EOF reached, writing everything we have in the temporary variable\n",
    "            with open(f'{output_name}_{file_number:0{padding_length}}.txt', 'w') as new_file:\n",
    "                new_file.write(new_file_content)\n",
    "    logging.info(f'Done with \"{source_file_name}\".')"
   ]
  },
  {
   "cell_type": "code",
   "execution_count": null,
   "metadata": {},
   "outputs": [],
   "source": [
    "import logging\n",
    "\n",
    "logging.basicConfig(level=logging.DEBUG)\n",
    "\n",
    "file_splitter(source_file_name='data/bview.20030809.1600.txt', number_of_files=100, separator='\\n', output_name='split')"
   ]
  },
  {
   "cell_type": "markdown",
   "metadata": {},
   "source": [
    "\n",
    "## Step 1\n",
    "\n",
    "Let's think a bit how we can make this code more efficient.\n",
    "\n",
    "Why do we compute the mount of entries? Do we need that? What about using the size of the file instead?\n",
    "\n",
    "Methods:\n",
    "* `file.seek`\n",
    "* `file.tell`"
   ]
  },
  {
   "cell_type": "markdown",
   "metadata": {},
   "source": [
    "## Step 2\n",
    "\n",
    "\n",
    "Let's make it better:\n",
    "* Only open the source file once\n",
    "* Open as binary file"
   ]
  },
  {
   "cell_type": "markdown",
   "metadata": {},
   "source": [
    "## Step 3\n",
    "\n",
    "\n",
    "* Fetch new files when there is something available\n",
    "    * http://data.ris.ripe.net/rrc00/latest-bview.gz\n",
    "    * ===> http://docs.python-requests.org/en/master/api/#requests.head & Last-Modified\n",
    "\n",
    "* Use the library to generate text files:\n",
    "    * https://bitbucket.org/ripencc/bgpdump/downloads/ (Installation details: https://bitbucket.org/ripencc/bgpdump/wiki/Home.wiki#!building)\n",
    "\n",
    "    ```\n",
    "    sh ./bootstrap.sh\n",
    "    make\n",
    "    ./bgpdump -T\n",
    "    ```\n",
    "\n",
    "    ./bgpdump -O ../data/latest-bview.txt  ../data/original/latest-bview.gz"
   ]
  },
  {
   "cell_type": "markdown",
   "metadata": {},
   "source": [
    "## Step 4 ++\n",
    "\n",
    "\n",
    "If you're fast and bored:\n",
    "* Make it a class (with comments)\n",
    "* Yield pseudo files (`BytesIO`) instead of writing the files on the disk\n",
    "* Use `argparse` to make the script more flexible\n",
    "\n"
   ]
  }
 ],
 "metadata": {
  "kernelspec": {
   "display_name": "Python 3",
   "language": "python",
   "name": "python3"
  },
  "language_info": {
   "codemirror_mode": {
    "name": "ipython",
    "version": 3
   },
   "file_extension": ".py",
   "mimetype": "text/x-python",
   "name": "python",
   "nbconvert_exporter": "python",
   "pygments_lexer": "ipython3",
   "version": "3.6.5"
  }
 },
 "nbformat": 4,
 "nbformat_minor": 2
}
