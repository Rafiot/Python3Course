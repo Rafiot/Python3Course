{
 "cells": [
  {
   "cell_type": "markdown",
   "metadata": {},
   "source": [
    "# Initialize your environment\n",
    "\n",
    "\n",
    "## Clone the repo\n",
    "\n",
    "```bash\n",
    "git clone https://github.com/Rafiot/Python3Course\n",
    "```\n",
    "\n",
    "## Install the dependency\n",
    "\n",
    "```bash\n",
    "(sudo) pip install jupyter\n",
    "```\n",
    "\n",
    "## Run the notebook\n",
    "\n",
    "```bash\n",
    "cd Python3Course\n",
    "jupyter-notebook\n",
    "```\n",
    "\n",
    "It will automatically open your browser on http://localhost:8888/. Open the notebook, follow the exercises\n"
   ]
  },
  {
   "cell_type": "markdown",
   "metadata": {},
   "source": [
    "# Context\n",
    "\n",
    "\n",
    "You have a big file and you want to extract information from it, and correlate them\n",
    "with 3rd party services. You get a new file every 5 min.\n",
    "\n",
    "Processing all that in one single process will take too much time,\n",
    "\n",
    "This file is text, so you can read it easily but the content is made of multiline blocks."
   ]
  },
  {
   "cell_type": "markdown",
   "metadata": {},
   "source": [
    "### Get the dataset"
   ]
  },
  {
   "cell_type": "code",
   "execution_count": null,
   "metadata": {},
   "outputs": [],
   "source": [
    "%%bash \n",
    "\n",
    "mkdir -p data\n",
    "\n",
    "wget https://owncloud.rafiot.eu/s/gp2cn7trXXsae63/download -O data/bview.tar.gz\n",
    "\n",
    "pushd data\n",
    "tar xzf bview.tar.gz\n",
    "popd"
   ]
  },
  {
   "cell_type": "markdown",
   "metadata": {},
   "source": [
    "### Look at the content of the directory"
   ]
  },
  {
   "cell_type": "code",
   "execution_count": null,
   "metadata": {},
   "outputs": [],
   "source": [
    "%%bash\n",
    "\n",
    "ls data "
   ]
  },
  {
   "cell_type": "markdown",
   "metadata": {},
   "source": [
    "## Step 1 - naive approach\n",
    "\n",
    "\n",
    "Figuring out a separator write a file split it in 7 independent files of the same-ish size\n",
    "\n",
    "Tools required:\n",
    "* `head`: look at the file -> find a separator\n",
    "* `grep`: figure out how many entries we have\n",
    "* `wc`: count the amout of blocks\n",
    "* `bc`: compute things -> amout of blocks /file"
   ]
  },
  {
   "cell_type": "code",
   "execution_count": null,
   "metadata": {},
   "outputs": [],
   "source": [
    "%%bash\n",
    "\n",
    "head <number of lines> data/bview.20030809.1600.txt"
   ]
  },
  {
   "cell_type": "code",
   "execution_count": null,
   "metadata": {},
   "outputs": [],
   "source": [
    "%%bash\n",
    "\n",
    "grep <pattern> data/bview.20030809.1600.txt | wc <lines>"
   ]
  },
  {
   "cell_type": "markdown",
   "metadata": {},
   "source": [
    "#### Compute that in a pythonic way"
   ]
  },
  {
   "cell_type": "code",
   "execution_count": null,
   "metadata": {},
   "outputs": [],
   "source": [
    "int(<number>/7)"
   ]
  },
  {
   "cell_type": "markdown",
   "metadata": {},
   "source": [
    "#### Quick & dirty bash"
   ]
  },
  {
   "cell_type": "code",
   "execution_count": null,
   "metadata": {},
   "outputs": [],
   "source": [
    "%%bash\n",
    "\n",
    "ENTRIES=`grep <pattern> data/bview.20030809.1600.txt | wc <lines>\n",
    "\n",
    "echo \"${ENTRIES}/7\"| bc"
   ]
  },
  {
   "cell_type": "markdown",
   "metadata": {},
   "source": [
    "### Now, split the file!\n",
    "\n",
    "1. Open a file in python: https://docs.python.org/3/tutorial/inputoutput.html#reading-and-writing-files\n",
    "2. Iterate over it line by line & store it in a temp variable\n",
    "3. Count the amount of blocs you're storing\n",
    "4. When the number is reached, store the content of the temporary variable in a new file (prepend `split_` to the file name)\n",
    "5. Close the file when done\n",
    "\n",
    "In order to make sure the code you wrote is correct, run the following code:"
   ]
  },
  {
   "cell_type": "code",
   "execution_count": null,
   "metadata": {},
   "outputs": [],
   "source": [
    "import glob\n",
    "import hashlib\n",
    "\n",
    "with open('data/bview.20030809.1600.txt', 'rb') as f:\n",
    "    hash_source = hashlib.sha256(f.read()).hexdigest()\n",
    "print(hash_source)\n",
    "\n",
    "hash_dest = hashlib.sha256()\n",
    "for out_file in sorted(glob.glob('split_*.txt')):\n",
    "    with open(out_file, 'rb') as f:\n",
    "        hash_dest.update(f.read())\n",
    "dest = hash_dest.hexdigest()\n",
    "print(dest)"
   ]
  },
  {
   "cell_type": "markdown",
   "metadata": {},
   "source": [
    "Ignore this piece of code for now, we'll get back to it later. YOu only need to know the following: **If the two values it prints are the same, your code is correct.**"
   ]
  },
  {
   "cell_type": "markdown",
   "metadata": {},
   "source": [
    "## If they're not, concatenate them all again"
   ]
  },
  {
   "cell_type": "code",
   "execution_count": null,
   "metadata": {},
   "outputs": [],
   "source": [
    "%%bash \n",
    "\n",
    "cat split_*.txt > foo.txt"
   ]
  },
  {
   "cell_type": "markdown",
   "metadata": {},
   "source": [
    "## Check the difference & fix your code until the validator script print the same value twice"
   ]
  },
  {
   "cell_type": "code",
   "execution_count": null,
   "metadata": {},
   "outputs": [],
   "source": [
    "%%bash\n",
    "\n",
    "diff data/bview.20030809.1600.txt foo.txt"
   ]
  },
  {
   "cell_type": "markdown",
   "metadata": {},
   "source": [
    "## Step 2 - Function\n",
    "\n",
    "Make it a function with the following parameters: `source_file_name`, `separator`, `output_name`\n",
    "\n",
    "Then, run it with the following code, and validate it."
   ]
  },
  {
   "cell_type": "code",
   "execution_count": null,
   "metadata": {},
   "outputs": [],
   "source": [
    "file_splitter(source_file_name='data/bview.20030809.1600.txt', separator='\\n', output_name='split')"
   ]
  },
  {
   "cell_type": "markdown",
   "metadata": {},
   "source": [
    "## Step 3 - Dynamically compute the number of blocs\n",
    "\n",
    "\n",
    "What about the file gets lot bigger? Or the size fluctuates?\n",
    "    (i.e we need to dynamically figure out how many blocks we want in each file)\n",
    "\n",
    "Or we want to split it in more/less files?\n",
    "    (i.e. we have more CPUs at hand and can process more files at once)\n",
    "\n",
    "* Use the python `re` module to do the same as grep but in python: https://docs.python.org/3/library/re.html#re.findall\n",
    "* Use the method `len()` to figure out the amount of blocks you have in the file: https://docs.python.org/3/library/functions.html#len\n",
    "\n",
    "### TODO\n",
    "\n",
    "1. Write a method that returns the number of blocs (see header below)\n",
    "2. Update `file_splitter` method accordingly (see header below)"
   ]
  },
  {
   "cell_type": "code",
   "execution_count": null,
   "metadata": {},
   "outputs": [],
   "source": [
    "original = 'data/bview.20030809.1600.txt'\n",
    "\n",
    "total_blocs_in_file = entries_counter(source_file=original)\n",
    "\n",
    "file_splitter(source_file_name=original, max_blocs_in_file=total_blocs_in_file/7, separator='\\n', output_name='split')"
   ]
  },
  {
   "cell_type": "markdown",
   "metadata": {},
   "source": [
    "## Step 4\n",
    "\n",
    "\n",
    "Do we care about the number of entries? Or the number of files?\n",
    "\n",
    "### TODO\n",
    "\n",
    "* Update your code to be able to pass a number of file as parameter"
   ]
  },
  {
   "cell_type": "code",
   "execution_count": null,
   "metadata": {},
   "outputs": [],
   "source": [
    "file_splitter(source_file_name='data/bview.20030809.1600.txt', number_of_files=7, separator='\\n', output_name='split')"
   ]
  },
  {
   "cell_type": "markdown",
   "metadata": {},
   "source": [
    "## Step 5\n",
    "\n",
    "\n",
    "We're getting there. Let's do some refactoring now to make the code more pythonesque.\n",
    "\n",
    "### TODO\n",
    "\n",
    "1. use the `with open ... as ...:` syntax when possible: https://docs.python.org/3/tutorial/inputoutput.html#reading-and-writing-files\n",
    "2. Use format instead of concatenating text: https://docs.python.org/3/reference/lexical_analysis.html#f-strings or https://docs.python.org/3.3/library/string.html#format-examples\n",
    "3. Use `round` on entries_per_file: https://docs.python.org/3/library/functions.html#round\n",
    "4. Add some logging (see the `logging` module): https://docs.python.org/3/howto/logging.html#logging-basic-tutorial"
   ]
  },
  {
   "cell_type": "code",
   "execution_count": null,
   "metadata": {},
   "outputs": [],
   "source": [
    "import logging\n",
    "import re\n",
    "\n",
    "def entries_counter(source_file):\n",
    "    # Get number blocks\n",
    "    logging.debug(f'{nb_blocks} blocks in the file \"{source_file}\".')\n",
    "    return nb_blocks\n",
    "\n",
    "def file_splitter(source_file_name, number_of_files, separator='\\n', output_name='split'):\n",
    "    logging.info(f'Start to split \"{source_file_name}\" in {number_of_files} files.')\n",
    "    total_blocs_in_file = entries_counter(source_file=source_file_name)\n",
    "    max_blocs_in_file = # rounding the amount of blocks/file\n",
    "    logging.debug(f'{max_blocs_in_file} blocks per file.')\n",
    "    \n",
    "    with open(source_file_name, 'r') as original_file:\n",
    "        file_number = 1\n",
    "        blocs_in_file = 0\n",
    "        new_file_content = ''\n",
    "\n",
    "        # Loop through the file, line by line\n",
    "        for line in original_file:\n",
    "            # do the work\n",
    "    logging.info(f'Done with \"{source_file_name}\".')"
   ]
  },
  {
   "cell_type": "code",
   "execution_count": null,
   "metadata": {},
   "outputs": [],
   "source": [
    "import logging\n",
    "\n",
    "logging.basicConfig(level=logging.DEBUG)\n",
    "\n",
    "file_splitter(source_file_name='data/bview.20030809.1600.txt', number_of_files=7, separator='\\n', output_name='split')"
   ]
  },
  {
   "cell_type": "markdown",
   "metadata": {},
   "source": [
    "## Step 5 - Bonus\n",
    "\n",
    "What happen if you split in more than 9 files and try to validate? Run the following code, try to validate. If it doesn't work, you probably want to look at that: https://stackoverflow.com/questions/339007/nicest-way-to-pad-zeroes-to-a-string"
   ]
  },
  {
   "cell_type": "code",
   "execution_count": null,
   "metadata": {},
   "outputs": [],
   "source": [
    "import logging\n",
    "\n",
    "logging.basicConfig(level=logging.DEBUG)\n",
    "\n",
    "file_splitter(source_file_name='data/bview.20030809.1600.txt', number_of_files=100, separator='\\n', output_name='split')"
   ]
  }
 ],
 "metadata": {
  "kernelspec": {
   "display_name": "Python 3",
   "language": "python",
   "name": "python3"
  },
  "language_info": {
   "codemirror_mode": {
    "name": "ipython",
    "version": 3
   },
   "file_extension": ".py",
   "mimetype": "text/x-python",
   "name": "python",
   "nbconvert_exporter": "python",
   "pygments_lexer": "ipython3",
   "version": "3.6.5"
  }
 },
 "nbformat": 4,
 "nbformat_minor": 2
}
