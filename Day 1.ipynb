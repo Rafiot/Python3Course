{
 "cells": [
  {
   "cell_type": "markdown",
   "metadata": {},
   "source": [
    "# Context\n",
    "\n",
    "\n",
    "You have a big file and you want to extract information from it, and correlate them\n",
    "with 3rd party services. You get a new file every 5 min.\n",
    "\n",
    "Processing all that in one single process will take too much time,\n",
    "\n",
    "This file is text, so you can read it easily but the content is made of multiline blocks.\n",
    "\n",
    "Use the `validate.sh` script to make sure the files you generate are the same as the source files."
   ]
  },
  {
   "cell_type": "markdown",
   "metadata": {},
   "source": [
    "## Step 0\n",
    "\n",
    "\n",
    "Clone this repo:\n",
    "\n",
    "```bash\n",
    "git clone https://github.com/Rafiot/2019-metz.git\n",
    "```"
   ]
  },
  {
   "cell_type": "code",
   "execution_count": null,
   "metadata": {},
   "outputs": [],
   "source": [
    "%%bash \n",
    "\n",
    "mkdir -p data\n",
    "\n",
    "wget https://owncloud.rafiot.eu/s/gp2cn7trXXsae63/download -O data/bview.tar.gz\n",
    "\n",
    "pushd data\n",
    "tar xzf bview.tar.gz\n",
    "popd"
   ]
  },
  {
   "cell_type": "code",
   "execution_count": null,
   "metadata": {},
   "outputs": [],
   "source": [
    "%%bash\n",
    "\n",
    "ls data "
   ]
  },
  {
   "cell_type": "markdown",
   "metadata": {},
   "source": [
    "## Step 1 - naive approach\n",
    "\n",
    "\n",
    "Figuring out a separator write a file split it in 7 independent files of the same-ish size\n",
    "\n",
    "Tools required:\n",
    "* `vim` or `head` (look at the file -> find a separator)\n",
    "* `grep` (figure out how many entries we have\n",
    "* `wc` (count the amout of blocks)\n",
    "* `bc` (compute things -> amout of blocks /file)"
   ]
  },
  {
   "cell_type": "code",
   "execution_count": null,
   "metadata": {},
   "outputs": [],
   "source": [
    "%%bash\n",
    "\n",
    "head -n 20 data/bview.20030809.1600.txt"
   ]
  },
  {
   "cell_type": "code",
   "execution_count": null,
   "metadata": {},
   "outputs": [],
   "source": [
    "%%bash\n",
    "\n",
    "grep '^$' data/bview.20030809.1600.txt | wc -l "
   ]
  },
  {
   "cell_type": "code",
   "execution_count": null,
   "metadata": {},
   "outputs": [],
   "source": [
    "%%bash\n",
    "\n",
    "ENTRIES=`grep '^$' data/bview.20030809.1600.txt | wc -l`\n",
    "\n",
    "echo \"${ENTRIES}/7\"| bc"
   ]
  },
  {
   "cell_type": "code",
   "execution_count": null,
   "metadata": {},
   "outputs": [],
   "source": [
    "original_file = open('data/bview.20030809.1600.txt', 'r')\n",
    "\n",
    "file_number = 1\n",
    "blocs_in_file = 0\n",
    "new_file_content = ''\n",
    "\n",
    "# Loop through the file, line by line\n",
    "for line in original_file:\n",
    "    # Store the line in a temporary variable\n",
    "    new_file_content += line\n",
    "    if line == '\\n':\n",
    "        # Count the blocks\n",
    "        blocs_in_file += 1\n",
    "    if blocs_in_file > 193101:\n",
    "        # If we reach the limit, write the content of the temporary variable in the new file\n",
    "        new_file = open('split_' + str(file_number) + '.txt', 'w')\n",
    "        new_file.write(new_file_content)\n",
    "        new_file.close()\n",
    "        # Reset counters\n",
    "        file_number += 1\n",
    "        blocs_in_file = 0\n",
    "        new_file_content = ''\n",
    "original_file.close()"
   ]
  },
  {
   "cell_type": "markdown",
   "metadata": {},
   "source": [
    "## Validator"
   ]
  },
  {
   "cell_type": "code",
   "execution_count": null,
   "metadata": {},
   "outputs": [],
   "source": [
    "import glob\n",
    "import hashlib\n",
    "\n",
    "with open('data/bview.20030809.1600.txt', 'rb') as f:\n",
    "    hash_source = hashlib.sha256(f.read()).hexdigest()\n",
    "print(hash_source)\n",
    "\n",
    "hash_dest = hashlib.sha256()\n",
    "for out_file in sorted(glob.glob('split_*.txt')):\n",
    "    with open(out_file, 'rb') as f:\n",
    "        hash_dest.update(f.read())\n",
    "dest = hash_dest.hexdigest()\n",
    "print(dest)"
   ]
  },
  {
   "cell_type": "markdown",
   "metadata": {},
   "source": [
    "## Concatenate"
   ]
  },
  {
   "cell_type": "code",
   "execution_count": null,
   "metadata": {},
   "outputs": [],
   "source": [
    "%%bash \n",
    "\n",
    "cat split_*.txt > foo.txt"
   ]
  },
  {
   "cell_type": "markdown",
   "metadata": {},
   "source": [
    "## Diff"
   ]
  },
  {
   "cell_type": "code",
   "execution_count": null,
   "metadata": {},
   "outputs": [],
   "source": [
    "%%bash\n",
    "\n",
    "diff data/bview.20030809.1600.txt foo.txt"
   ]
  },
  {
   "cell_type": "markdown",
   "metadata": {},
   "source": [
    "## Final solution - naive approach"
   ]
  },
  {
   "cell_type": "code",
   "execution_count": null,
   "metadata": {},
   "outputs": [],
   "source": [
    "original_file = open('data/bview.20030809.1600.txt', 'r')\n",
    "\n",
    "file_number = 1\n",
    "blocs_in_file = 0\n",
    "new_file_content = ''\n",
    "\n",
    "# Loop through the file, line by line\n",
    "for line in original_file:\n",
    "    # Store the line in a temporary variable\n",
    "    new_file_content += line\n",
    "    if line == '\\n':\n",
    "        # Count the blocks\n",
    "        blocs_in_file += 1\n",
    "    if blocs_in_file > 193101:\n",
    "        # If we reach the limit, write the content of the temporary variable in the new file\n",
    "        new_file = open('split_' + str(file_number) + '.txt', 'w')\n",
    "        new_file.write(new_file_content)\n",
    "        new_file.close()\n",
    "        # Reset counters\n",
    "        file_number += 1\n",
    "        blocs_in_file = 0\n",
    "        new_file_content = ''\n",
    "else:\n",
    "    # EOF reached, writing everything we have in the temporary variable\n",
    "    new_file = open('split_' + str(file_number) + '.txt', 'w')\n",
    "    new_file.write(new_file_content)\n",
    "    new_file.close()\n",
    "    \n",
    "original_file.close()"
   ]
  },
  {
   "cell_type": "markdown",
   "metadata": {},
   "source": [
    "## Step 2 - Function\n",
    "\n",
    "Make it a function with the following parameters: `source_file_name`, `separator`, `output_name`\n"
   ]
  },
  {
   "cell_type": "code",
   "execution_count": null,
   "metadata": {},
   "outputs": [],
   "source": [
    "def file_splitter(source_file_name, separator='\\n', output_name='split'):\n",
    "    original_file = open(source_file_name, 'r')\n",
    "\n",
    "    file_number = 1\n",
    "    blocs_in_file = 0\n",
    "    new_file_content = ''\n",
    "\n",
    "    # Loop through the file, line by line\n",
    "    for line in original_file:\n",
    "        # Store the line in a temporary variable\n",
    "        new_file_content += line\n",
    "        if line == separator:\n",
    "            # Count the blocks\n",
    "            blocs_in_file += 1\n",
    "        if blocs_in_file > 193101:\n",
    "            # If we reach the limit, write the content of the temporary variable in the new file\n",
    "            new_file = open(output_name + '_' + str(file_number) + '.txt', 'w')\n",
    "            new_file.write(new_file_content)\n",
    "            new_file.close()\n",
    "            # Reset counters\n",
    "            file_number += 1\n",
    "            blocs_in_file = 0\n",
    "            new_file_content = ''\n",
    "    else:\n",
    "        # EOF reached, writing everything we have in the temporary variable\n",
    "        new_file = open(output_name + '_' + str(file_number) + '.txt', 'w')\n",
    "        new_file.write(new_file_content)\n",
    "        new_file.close()\n",
    "\n",
    "    original_file.close()"
   ]
  },
  {
   "cell_type": "code",
   "execution_count": null,
   "metadata": {},
   "outputs": [],
   "source": [
    "file_splitter(source_file_name='data/bview.20030809.1600.txt', separator='\\n', output_name='split')"
   ]
  },
  {
   "cell_type": "markdown",
   "metadata": {},
   "source": [
    "## Step 3 - Dynamically compute the number of blocs\n",
    "\n",
    "\n",
    "What about the file gets lot bigger? Or the size fluctuates?\n",
    "    (i.e we need to dynamically figure out how many blocks we want in each file)\n",
    "\n",
    "Or we want to split it in more/less files?\n",
    "    (i.e. we have more CPUs at hand and can process more files at once)\n",
    "\n",
    "Python modules\n",
    "* `re` (regex, replaces `grep`)\n",
    "\n",
    "Method:\n",
    "* `len` (replaces `wc`)\n",
    "\n",
    "1. count the total amount of blocks (in another method)\n",
    "2. Divide it by the number of files\n",
    "3. Update the `file_split` method accordingly\n"
   ]
  },
  {
   "cell_type": "markdown",
   "metadata": {},
   "source": [
    "### 3.1 Compute the number of blocs\n",
    "\n"
   ]
  },
  {
   "cell_type": "code",
   "execution_count": null,
   "metadata": {},
   "outputs": [],
   "source": [
    "import re\n",
    "\n",
    "def entries_counter(source_file):\n",
    "    matches = re.findall('^$', open(source_file, 'r').read(), flags=re.MULTILINE)\n",
    "    return len(matches)"
   ]
  },
  {
   "cell_type": "code",
   "execution_count": null,
   "metadata": {},
   "outputs": [],
   "source": [
    "total_blocs_in_file = entries_counter(source_file='data/bview.20030809.1600.txt')\n",
    "print(total_blocs_in_file)"
   ]
  },
  {
   "cell_type": "markdown",
   "metadata": {},
   "source": [
    "### 3.2 Update file_splitter\n",
    "\n",
    "Add a parameter `max_blocs_in_file`"
   ]
  },
  {
   "cell_type": "code",
   "execution_count": null,
   "metadata": {},
   "outputs": [],
   "source": [
    "def file_splitter(source_file_name, max_blocs_in_file, separator='\\n', output_name='split'):\n",
    "    original_file = open(source_file_name, 'r')\n",
    "\n",
    "    file_number = 1\n",
    "    blocs_in_file = 0\n",
    "    new_file_content = ''\n",
    "\n",
    "    # Loop through the file, line by line\n",
    "    for line in original_file:\n",
    "        # Store the line in a temporary variable\n",
    "        new_file_content += line\n",
    "        if line == separator:\n",
    "            # Count the blocks\n",
    "            blocs_in_file += 1\n",
    "        if blocs_in_file > max_blocs_in_file:\n",
    "            # If we reach the limit, write the content of the temporary variable in the new file\n",
    "            new_file = open(output_name + '_' + str(file_number) + '.txt', 'w')\n",
    "            new_file.write(new_file_content)\n",
    "            new_file.close()\n",
    "            # Reset counters\n",
    "            file_number += 1\n",
    "            blocs_in_file = 0\n",
    "            new_file_content = ''\n",
    "    else:\n",
    "        # EOF reached, writing everything we have in the temporary variable\n",
    "        new_file = open(output_name + '_' + str(file_number) + '.txt', 'w')\n",
    "        new_file.write(new_file_content)\n",
    "        new_file.close()\n",
    "\n",
    "    original_file.close()"
   ]
  },
  {
   "cell_type": "markdown",
   "metadata": {},
   "source": [
    "### 3.3 Put everything together"
   ]
  },
  {
   "cell_type": "code",
   "execution_count": null,
   "metadata": {},
   "outputs": [],
   "source": [
    "original = 'data/bview.20030809.1600.txt'\n",
    "\n",
    "total_blocs_in_file = entries_counter(source_file=original)\n",
    "file_splitter(source_file_name=original, max_blocs_in_file=total_blocs_in_file/7, separator='\\n', output_name='split')"
   ]
  },
  {
   "cell_type": "markdown",
   "metadata": {},
   "source": [
    "## Step 4\n",
    "\n",
    "\n",
    "Do we care about the number of entries? Or the number of files?\n",
    "\n",
    "===> Update your code to be able to pass a number of file as parameter"
   ]
  },
  {
   "cell_type": "code",
   "execution_count": null,
   "metadata": {},
   "outputs": [],
   "source": [
    "def file_splitter(source_file_name, number_of_files, separator='\\n', output_name='split'):\n",
    "    total_blocs_in_file = entries_counter(source_file=source_file_name)\n",
    "    max_blocs_in_file = total_blocs_in_file/number_of_files\n",
    "    \n",
    "    original_file = open(source_file_name, 'r')\n",
    "\n",
    "    file_number = 1\n",
    "    blocs_in_file = 0\n",
    "    new_file_content = ''\n",
    "\n",
    "    # Loop through the file, line by line\n",
    "    for line in original_file:\n",
    "        # Store the line in a temporary variable\n",
    "        new_file_content += line\n",
    "        if line == separator:\n",
    "            # Count the blocks\n",
    "            blocs_in_file += 1\n",
    "        if blocs_in_file > max_blocs_in_file:\n",
    "            # If we reach the limit, write the content of the temporary variable in the new file\n",
    "            new_file = open(output_name + '_' + str(file_number) + '.txt', 'w')\n",
    "            new_file.write(new_file_content)\n",
    "            new_file.close()\n",
    "            # Reset counters\n",
    "            file_number += 1\n",
    "            blocs_in_file = 0\n",
    "            new_file_content = ''\n",
    "    else:\n",
    "        # EOF reached, writing everything we have in the temporary variable\n",
    "        new_file = open(output_name + '_' + str(file_number) + '.txt', 'w')\n",
    "        new_file.write(new_file_content)\n",
    "        new_file.close()\n",
    "\n",
    "    original_file.close()"
   ]
  },
  {
   "cell_type": "code",
   "execution_count": null,
   "metadata": {},
   "outputs": [],
   "source": [
    "file_splitter(source_file_name='data/bview.20030809.1600.txt', number_of_files=7, separator='\\n', output_name='split')"
   ]
  },
  {
   "cell_type": "markdown",
   "metadata": {},
   "source": [
    "## Step 5\n",
    "\n",
    "\n",
    "We're getting there. Let's do some refactoring now to make the code more pythonesque.\n",
    "\n",
    "* use the `with open ... as ...:` syntax when possible\n",
    "* Use format instead of concatenating text\n",
    "* Use `round` on entries_per_file\n",
    "* Add some logging (see the `logging` module)"
   ]
  },
  {
   "cell_type": "code",
   "execution_count": null,
   "metadata": {},
   "outputs": [],
   "source": [
    "import logging\n",
    "import re\n",
    "\n",
    "def entries_counter(source_file):\n",
    "    matches = re.findall('^$', open(source_file, 'r').read(), flags=re.MULTILINE)\n",
    "    nb_blocks = len(matches)\n",
    "    logging.debug(f'{nb_blocks} blocks in the file \"{source_file}\".')\n",
    "    return nb_blocks\n",
    "\n",
    "def file_splitter(source_file_name, number_of_files, separator='\\n', output_name='split'):\n",
    "    logging.info(f'Start to split \"{source_file_name}\" in {number_of_files} files.')\n",
    "    total_blocs_in_file = entries_counter(source_file=source_file_name)\n",
    "    max_blocs_in_file = round(total_blocs_in_file/float(number_of_files), 0)\n",
    "    logging.debug(f'{max_blocs_in_file} blocks per file.')\n",
    "    \n",
    "    with open(source_file_name, 'r') as original_file:\n",
    "        file_number = 1\n",
    "        blocs_in_file = 0\n",
    "        new_file_content = ''\n",
    "\n",
    "        # Loop through the file, line by line\n",
    "        for line in original_file:\n",
    "            # Store the line in a temporary variable\n",
    "            new_file_content += line\n",
    "            if line == separator:\n",
    "                # Count the blocks\n",
    "                blocs_in_file += 1\n",
    "            if blocs_in_file > max_blocs_in_file:\n",
    "                logging.debug(f'Writing {output_name}_{file_number}.txt.')\n",
    "                # If we reach the limit, write the content of the temporary variable in the new file\n",
    "                with open(f'{output_name}_{file_number}.txt', 'w') as new_file:\n",
    "                    new_file.write(new_file_content)\n",
    "                # Reset counters\n",
    "                file_number += 1\n",
    "                blocs_in_file = 0\n",
    "                new_file_content = ''\n",
    "        else:\n",
    "            logging.debug(f'Writing {output_name}_{file_number}.txt.')\n",
    "            # EOF reached, writing everything we have in the temporary variable\n",
    "            with open(f'{output_name}_{file_number}.txt', 'w') as new_file:\n",
    "                new_file.write(new_file_content)\n",
    "    logging.info(f'Done with \"{source_file_name}\".')"
   ]
  },
  {
   "cell_type": "code",
   "execution_count": null,
   "metadata": {},
   "outputs": [],
   "source": [
    "import logging\n",
    "\n",
    "logging.basicConfig(level=logging.DEBUG)\n",
    "\n",
    "file_splitter(source_file_name='data/bview.20030809.1600.txt', number_of_files=7, separator='\\n', output_name='split')"
   ]
  },
  {
   "cell_type": "markdown",
   "metadata": {},
   "source": [
    "## Step 5 - Bonus\n",
    "\n",
    "What happen if you split in more than 9 files and try to validate?"
   ]
  },
  {
   "cell_type": "code",
   "execution_count": null,
   "metadata": {},
   "outputs": [],
   "source": [
    "import logging\n",
    "\n",
    "logging.basicConfig(level=logging.DEBUG)\n",
    "\n",
    "file_splitter(source_file_name='data/bview.20030809.1600.txt', number_of_files=100, separator='\\n', output_name='split')"
   ]
  },
  {
   "cell_type": "code",
   "execution_count": null,
   "metadata": {},
   "outputs": [],
   "source": [
    "import logging\n",
    "import re\n",
    "\n",
    "def entries_counter(source_file):\n",
    "    matches = re.findall('^$', open(source_file, 'r').read(), flags=re.MULTILINE)\n",
    "    nb_blocks = len(matches)\n",
    "    logging.debug(f'{nb_blocks} blocks in the file \"{source_file}\".')\n",
    "    return nb_blocks\n",
    "\n",
    "def file_splitter(source_file_name, number_of_files, separator='\\n', output_name='split'):\n",
    "    logging.info(f'Start to split \"{source_file_name}\" in {number_of_files} files.')\n",
    "    total_blocs_in_file = entries_counter(source_file=source_file_name)\n",
    "    max_blocs_in_file = round(total_blocs_in_file/float(number_of_files), 0)\n",
    "    logging.debug(f'{max_blocs_in_file} blocks per file.')\n",
    "    \n",
    "    padding_length = len(str(number_of_files))\n",
    "    \n",
    "    with open(source_file_name, 'r') as original_file:\n",
    "        file_number = 1\n",
    "        blocs_in_file = 0\n",
    "        new_file_content = ''\n",
    "\n",
    "        # Loop through the file, line by line\n",
    "        for line in original_file:\n",
    "            # Store the line in a temporary variable\n",
    "            new_file_content += line\n",
    "            if line == separator:\n",
    "                # Count the blocks\n",
    "                blocs_in_file += 1\n",
    "            if blocs_in_file > max_blocs_in_file:\n",
    "                logging.debug(f'Writing {output_name}_{file_number:0{padding_length}}.txt.')\n",
    "                # If we reach the limit, write the content of the temporary variable in the new file\n",
    "                with open(f'{output_name}_{file_number:0{padding_length}}.txt', 'w') as new_file:\n",
    "                    new_file.write(new_file_content)\n",
    "                # Reset counters\n",
    "                file_number += 1\n",
    "                blocs_in_file = 0\n",
    "                new_file_content = ''\n",
    "        else:\n",
    "            logging.debug(f'Writing {output_name}_{file_number:0{padding_length}}.txt.')\n",
    "            # EOF reached, writing everything we have in the temporary variable\n",
    "            with open(f'{output_name}_{file_number:0{padding_length}}.txt', 'w') as new_file:\n",
    "                new_file.write(new_file_content)\n",
    "    logging.info(f'Done with \"{source_file_name}\".')"
   ]
  },
  {
   "cell_type": "markdown",
   "metadata": {},
   "source": [
    "## Step 6\n",
    "\n",
    "Let's think a bit how we can make this code more efficient.\n",
    "\n",
    "Why do we compute the mount of entries? Do we need that? What about using the size of the file instead?\n",
    "\n",
    "Methods:\n",
    "* `file.seek`\n",
    "* `file.tell`"
   ]
  },
  {
   "cell_type": "markdown",
   "metadata": {},
   "source": [
    "## Step 7\n",
    "\n",
    "\n",
    "Let's make it better:\n",
    "* Only open the source file once\n",
    "* Open as binary file"
   ]
  },
  {
   "cell_type": "markdown",
   "metadata": {},
   "source": [
    "## Step 8\n",
    "\n",
    "\n",
    "* Fetch new files when there is something available\n",
    "    * http://data.ris.ripe.net/rrc00/latest-bview.gz\n",
    "    * ===> http://docs.python-requests.org/en/master/api/#requests.head & Last-Modified\n",
    "\n",
    "* Use the library to generate text files:\n",
    "    * https://bitbucket.org/ripencc/bgpdump/downloads/ (Installation details: https://bitbucket.org/ripencc/bgpdump/wiki/Home.wiki#!building)\n",
    "\n",
    "    ```\n",
    "    sh ./bootstrap.sh\n",
    "    make\n",
    "    ./bgpdump -T\n",
    "    ```\n",
    "\n",
    "    ./bgpdump -O ../data/latest-bview.txt  ../data/original/latest-bview.gz"
   ]
  },
  {
   "cell_type": "markdown",
   "metadata": {},
   "source": [
    "## Step 9 ++\n",
    "\n",
    "\n",
    "If you're fast and bored:\n",
    "* Make it a class (with comments)\n",
    "* Yield pseudo files (`BytesIO`) instead of writing the files on the disk\n",
    "* Use `argparse` to make the script more flexible\n",
    "\n"
   ]
  },
  {
   "cell_type": "code",
   "execution_count": null,
   "metadata": {},
   "outputs": [],
   "source": []
  }
 ],
 "metadata": {
  "kernelspec": {
   "display_name": "Python 3",
   "language": "python",
   "name": "python3"
  },
  "language_info": {
   "codemirror_mode": {
    "name": "ipython",
    "version": 3
   },
   "file_extension": ".py",
   "mimetype": "text/x-python",
   "name": "python",
   "nbconvert_exporter": "python",
   "pygments_lexer": "ipython3",
   "version": "3.6.5"
  }
 },
 "nbformat": 4,
 "nbformat_minor": 2
}
